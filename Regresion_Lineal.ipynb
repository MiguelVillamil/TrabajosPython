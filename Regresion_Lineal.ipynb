{
  "nbformat": 4,
  "nbformat_minor": 0,
  "metadata": {
    "colab": {
      "name": "Regresion_Lineal.ipynb",
      "provenance": [],
      "authorship_tag": "ABX9TyPNn9EJ/e4vckDrIPLyhHgw",
      "include_colab_link": true
    },
    "kernelspec": {
      "name": "python3",
      "display_name": "Python 3"
    },
    "language_info": {
      "name": "python"
    }
  },
  "cells": [
    {
      "cell_type": "markdown",
      "metadata": {
        "id": "view-in-github",
        "colab_type": "text"
      },
      "source": [
        "<a href=\"https://colab.research.google.com/github/MiguelVillamil/TrabajosPython/blob/main/Regresion_Lineal.ipynb\" target=\"_parent\"><img src=\"https://colab.research.google.com/assets/colab-badge.svg\" alt=\"Open In Colab\"/></a>"
      ]
    },
    {
      "cell_type": "code",
      "metadata": {
        "colab": {
          "base_uri": "https://localhost:8080/",
          "height": 281
        },
        "id": "vWsrNOG56-pX",
        "outputId": "370c253e-884e-4291-b966-3098a0791e52"
      },
      "source": [
        "import matplotlib.pyplot as plt\n",
        "import numpy as np\n",
        "from sklearn.linear_model import LinearRegression\n",
        "from timeit import default_timer\n",
        "from termcolor import colored \n",
        "\n",
        "inicio1=default_timer()\n",
        "\n",
        "n=10 # Número de datos\n",
        "\n",
        "m=0.7\n",
        "b=0.2\n",
        "amplitud_ruido = 0.3\n",
        "x=np.random.rand(n) # genera n números entre 0 y 1\n",
        "y=np.random.rand(n)*amplitud_ruido + (m*x  + b) # agrega ruido a la recta\n",
        "\n",
        "plt.scatter(x, y)\n",
        "final1=default_timer()\n",
        "\n",
        "print(colored(\"el tiempo de ejecucion es: \",\"green\"), final1-inicio1)"
      ],
      "execution_count": 1,
      "outputs": [
        {
          "output_type": "stream",
          "text": [
            "\u001b[32mel tiempo de ejecucion es: \u001b[0m 0.018761721999908332\n"
          ],
          "name": "stdout"
        },
        {
          "output_type": "display_data",
          "data": {
            "image/png": "[encoded data removed]",
            "text/plain": [
              "<Figure size 432x288 with 1 Axes>"
            ]
          },
          "metadata": {
            "needs_background": "light"
          }
        }
      ]
    },
    {
      "cell_type": "code",
      "metadata": {
        "colab": {
          "base_uri": "https://localhost:8080/",
          "height": 817
        },
        "id": "FLP5Qrnb-AZK",
        "outputId": "ae94d24f-6852-4ede-c3f2-fd66200dd949"
      },
      "source": [
        "inicio2=default_timer()\n",
        "\n",
        "x=x.reshape(-1,1)\n",
        "print (y)\n",
        "print (x) \n",
        "\n",
        "model = LinearRegression()\n",
        "model.fit(x, y)\n",
        "r_sq = model.score(x, y)\n",
        "print('coefficient of determination:', r_sq)\n",
        "new_model = LinearRegression().fit(x, y.reshape((-1, 1)))\n",
        "print('intercept:', new_model.intercept_)\n",
        "print('slope:', new_model.coef_)\n",
        "\n",
        "y_pred = model.predict(x)\n",
        "print('predicted response:', y_pred, sep='\\n')\n",
        "#y_pred = model.intercept_ + model.coef_ * x\n",
        "#print('predicted response:', y_pred, sep='\\n')\n",
        "x_new = (np.arange(11).reshape((-1, 1)))/10\n",
        "print(\"x new: \\n\",x_new)\n",
        "y_new = model.predict(x_new)\n",
        "print(\"y new:\\n\",y_new)\n",
        "\n",
        "plt.plot(x_new, y_new)\n",
        "plt.scatter(x, y)\n",
        "\n",
        "final2=default_timer()\n",
        "print(colored(\"el tiempo de ejecucion es: \",\"green\"), final2-inicio2)"
      ],
      "execution_count": 2,
      "outputs": [
        {
          "output_type": "stream",
          "text": [
            "[0.77191155 0.76324799 0.774978   0.87044662 0.82762761 0.8736114\n",
            " 0.98618582 0.80678457 0.5912097  0.38598201]\n",
            "[[0.57235022]\n",
            " [0.47831711]\n",
            " [0.7409937 ]\n",
            " [0.56842353]\n",
            " [0.66975853]\n",
            " [0.92131939]\n",
            " [0.97300577]\n",
            " [0.79221578]\n",
            " [0.17976931]\n",
            " [0.04809907]]\n",
            "coefficient of determination: 0.8343685364405982\n",
            "intercept: [0.46103922]\n",
            "slope: [[0.51168638]]\n",
            "predicted response:\n",
            "[0.75390304 0.70578758 0.84019561 0.75189381 0.80374554 0.93246581\n",
            " 0.95891302 0.86640525 0.55302473 0.48565087]\n",
            "x new: \n",
            " [[0. ]\n",
            " [0.1]\n",
            " [0.2]\n",
            " [0.3]\n",
            " [0.4]\n",
            " [0.5]\n",
            " [0.6]\n",
            " [0.7]\n",
            " [0.8]\n",
            " [0.9]\n",
            " [1. ]]\n",
            "y new:\n",
            " [0.46103922 0.51220786 0.5633765  0.61454514 0.66571378 0.71688241\n",
            " 0.76805105 0.81921969 0.87038833 0.92155697 0.97272561]\n",
            "\u001b[32mel tiempo de ejecucion es: \u001b[0m 0.03302375200019014\n"
          ],
          "name": "stdout"
        },
        {
          "output_type": "display_data",
          "data": {
            "image/png": "[encoded data removed]",
            "text/plain": [
              "<Figure size 432x288 with 1 Axes>"
            ]
          },
          "metadata": {
            "needs_background": "light"
          }
        }
      ]
    },
    {
      "cell_type": "code",
      "metadata": {
        "colab": {
          "base_uri": "https://localhost:8080/",
          "height": 281
        },
        "id": "Iahstb0D-03R",
        "outputId": "581b28a2-d607-4ef8-8d99-428f64713bd4"
      },
      "source": [
        "\n",
        "\n",
        "inicio3=default_timer()\n",
        "final3=0\n",
        "\n",
        "while (final3-inicio3 == 60):\n",
        "  final3=default_timer()\n",
        "  n=n*10 # Número de datos\n",
        "\n",
        "\n",
        "  amplitud_ruido = 0.3\n",
        "  x2=np.random.rand(n) # genera n números entre 0 y 1\n",
        "  y2=np.random.rand(n)*amplitud_ruido + (m*x2  + b) # agrega ruido a la recta\n",
        "\n",
        "  x2=x2.reshape(-1,1)\n",
        "  print (y2)\n",
        "  print (x2) \n",
        "\n",
        "  model = LinearRegression()\n",
        "  model.fit(x2, y2)\n",
        "  r_sq = model.score(x2, y2)\n",
        "  print('coefficient of determination:', r_sq)\n",
        "  new_model = LinearRegression().fit(x2, y2.reshape((-1, 1)))\n",
        "  print('intercept:', new_model.intercept_)\n",
        "  print('slope:', new_model.coef_)\n",
        "\n",
        "  y_pred = model.predict(x2)\n",
        "  print('predicted response:', y_pred, sep='\\n')\n",
        "  #y_pred = model.intercept_ + model.coef_ * x\n",
        "  #print('predicted response:', y_pred, sep='\\n')\n",
        "  x2_new = (np.arange(0,101,0.01).reshape((-1,1)))\n",
        "  print(\"x new: \\n\",x2_new)\n",
        "  y2_new = model.predict(x2_new)\n",
        "  print(\"y new:\\n\",y2_new)\n",
        "\n",
        "plt.plot(x2_new, y2_new)\n",
        "plt.scatter(x2, y2)\n"
      ],
      "execution_count": 11,
      "outputs": [
        {
          "output_type": "execute_result",
          "data": {
            "text/plain": [
              "<matplotlib.collections.PathCollection at 0x7fd62e82d250>"
            ]
          },
          "metadata": {},
          "execution_count": 11
        },
        {
          "output_type": "display_data",
          "data": {
            "image/png": "[encoded data removed]",
            "text/plain": [
              "<Figure size 432x288 with 1 Axes>"
            ]
          },
          "metadata": {
            "needs_background": "light"
          }
        }
      ]
    },
    {
      "cell_type": "code",
      "metadata": {
        "id": "PmjNZH78_z7E",
        "colab": {
          "base_uri": "https://localhost:8080/"
        },
        "outputId": "e5a0e0e4-73ee-4b79-8074-40a766202a2f"
      },
      "source": [
        "a=np.arange(5)\n",
        "a.reshape(-1,1)"
      ],
      "execution_count": 7,
      "outputs": [
        {
          "output_type": "execute_result",
          "data": {
            "text/plain": [
              "array([[0],\n",
              "       [1],\n",
              "       [2],\n",
              "       [3],\n",
              "       [4]])"
            ]
          },
          "metadata": {},
          "execution_count": 7
        }
      ]
    },
    {
      "cell_type": "code",
      "metadata": {
        "id": "UmjZFIPoA_h_"
      },
      "source": [
        ""
      ],
      "execution_count": 3,
      "outputs": []
    }
  ]
}